{
 "cells": [
  {
   "cell_type": "code",
   "execution_count": 12,
   "metadata": {},
   "outputs": [],
   "source": [
    "import tensorflow as tf\n",
    "import numpy as np\n",
    "import keras as K"
   ]
  },
  {
   "cell_type": "code",
   "execution_count": 32,
   "metadata": {},
   "outputs": [
    {
     "name": "stdout",
     "output_type": "stream",
     "text": [
      "5\n"
     ]
    }
   ],
   "source": [
    "a = '5'\n",
    "b = int( a )\n",
    "print( b )"
   ]
  },
  {
   "cell_type": "code",
   "execution_count": 28,
   "metadata": {},
   "outputs": [
    {
     "name": "stdout",
     "output_type": "stream",
     "text": [
      "[[[ 2  3  4  5  0]\n",
      "  [ 7  8  9 10  0]\n",
      "  [ 3  5  7  9  0]]\n",
      "\n",
      " [[ 2  3  4  5  0]\n",
      "  [ 7  8  9 10  0]\n",
      "  [ 3  5  7  9  0]]]\n"
     ]
    }
   ],
   "source": [
    "a = np.array( [[1, 2, 3, 4, 5], [6, 7, 8, 9, 10], [1, 3, 5, 7, 9]] )\n",
    "b = np.array( [a, a] )\n",
    "b = np.roll( b, -1, axis = -1 )\n",
    "b[:, :, -1] = 0\n",
    "print( b )"
   ]
  },
  {
   "cell_type": "code",
   "execution_count": 29,
   "metadata": {},
   "outputs": [
    {
     "name": "stdout",
     "output_type": "stream",
     "text": [
      "[[[[0. 0. 1. 0. 0. 0. 0. 0. 0. 0. 0. 0. 0. 0. 0. 0.]\n",
      "   [0. 0. 0. 1. 0. 0. 0. 0. 0. 0. 0. 0. 0. 0. 0. 0.]\n",
      "   [0. 0. 0. 0. 1. 0. 0. 0. 0. 0. 0. 0. 0. 0. 0. 0.]\n",
      "   [0. 0. 0. 0. 0. 1. 0. 0. 0. 0. 0. 0. 0. 0. 0. 0.]\n",
      "   [1. 0. 0. 0. 0. 0. 0. 0. 0. 0. 0. 0. 0. 0. 0. 0.]]\n",
      "\n",
      "  [[0. 0. 0. 0. 0. 0. 0. 1. 0. 0. 0. 0. 0. 0. 0. 0.]\n",
      "   [0. 0. 0. 0. 0. 0. 0. 0. 1. 0. 0. 0. 0. 0. 0. 0.]\n",
      "   [0. 0. 0. 0. 0. 0. 0. 0. 0. 1. 0. 0. 0. 0. 0. 0.]\n",
      "   [0. 0. 0. 0. 0. 0. 0. 0. 0. 0. 1. 0. 0. 0. 0. 0.]\n",
      "   [1. 0. 0. 0. 0. 0. 0. 0. 0. 0. 0. 0. 0. 0. 0. 0.]]\n",
      "\n",
      "  [[0. 0. 0. 1. 0. 0. 0. 0. 0. 0. 0. 0. 0. 0. 0. 0.]\n",
      "   [0. 0. 0. 0. 0. 1. 0. 0. 0. 0. 0. 0. 0. 0. 0. 0.]\n",
      "   [0. 0. 0. 0. 0. 0. 0. 1. 0. 0. 0. 0. 0. 0. 0. 0.]\n",
      "   [0. 0. 0. 0. 0. 0. 0. 0. 0. 1. 0. 0. 0. 0. 0. 0.]\n",
      "   [1. 0. 0. 0. 0. 0. 0. 0. 0. 0. 0. 0. 0. 0. 0. 0.]]]\n",
      "\n",
      "\n",
      " [[[0. 0. 1. 0. 0. 0. 0. 0. 0. 0. 0. 0. 0. 0. 0. 0.]\n",
      "   [0. 0. 0. 1. 0. 0. 0. 0. 0. 0. 0. 0. 0. 0. 0. 0.]\n",
      "   [0. 0. 0. 0. 1. 0. 0. 0. 0. 0. 0. 0. 0. 0. 0. 0.]\n",
      "   [0. 0. 0. 0. 0. 1. 0. 0. 0. 0. 0. 0. 0. 0. 0. 0.]\n",
      "   [1. 0. 0. 0. 0. 0. 0. 0. 0. 0. 0. 0. 0. 0. 0. 0.]]\n",
      "\n",
      "  [[0. 0. 0. 0. 0. 0. 0. 1. 0. 0. 0. 0. 0. 0. 0. 0.]\n",
      "   [0. 0. 0. 0. 0. 0. 0. 0. 1. 0. 0. 0. 0. 0. 0. 0.]\n",
      "   [0. 0. 0. 0. 0. 0. 0. 0. 0. 1. 0. 0. 0. 0. 0. 0.]\n",
      "   [0. 0. 0. 0. 0. 0. 0. 0. 0. 0. 1. 0. 0. 0. 0. 0.]\n",
      "   [1. 0. 0. 0. 0. 0. 0. 0. 0. 0. 0. 0. 0. 0. 0. 0.]]\n",
      "\n",
      "  [[0. 0. 0. 1. 0. 0. 0. 0. 0. 0. 0. 0. 0. 0. 0. 0.]\n",
      "   [0. 0. 0. 0. 0. 1. 0. 0. 0. 0. 0. 0. 0. 0. 0. 0.]\n",
      "   [0. 0. 0. 0. 0. 0. 0. 1. 0. 0. 0. 0. 0. 0. 0. 0.]\n",
      "   [0. 0. 0. 0. 0. 0. 0. 0. 0. 1. 0. 0. 0. 0. 0. 0.]\n",
      "   [1. 0. 0. 0. 0. 0. 0. 0. 0. 0. 0. 0. 0. 0. 0. 0.]]]]\n"
     ]
    }
   ],
   "source": [
    "b = K.utils.to_categorical( b, 16 )\n",
    "print( b )"
   ]
  },
  {
   "cell_type": "code",
   "execution_count": null,
   "metadata": {},
   "outputs": [],
   "source": [
    "data = []\n",
    "label = []\n",
    "for i in range( 10 ):\n",
    "    for j in range( 10 ):\n",
    "        k = i + j\n",
    "        data.append( [[i], [j]] )\n",
    "        label.append( k )"
   ]
  },
  {
   "cell_type": "code",
   "execution_count": null,
   "metadata": {},
   "outputs": [],
   "source": [
    "x = tf.placeholder( tf.float32, shape = ( 2, 1 ) )\n",
    "w = tf.Variable( tf.random_normal( ( 1, 2 ) ), name = \"weights\" )\n",
    "b = tf.Variable( tf.random_normal( ( 1, 1 ) ), name = \"bias\" )\n",
    "y_pred = tf.matmul( w, x ) + b\n",
    "y_pred = tf.squeeze( y_pred )\n",
    "y_true = tf.placeholder( tf.float32 )\n",
    "loss = 1 / 2 * tf.square( y_pred - y_true )\n",
    "\n",
    "opt = tf.train.GradientDescentOptimizer( 0.01 )\n",
    "\n",
    "grad = opt.compute_gradients( loss )\n",
    "step = opt.apply_gradients( grad )\n",
    "\n",
    "# train = tf.train.GradientDescentOptimizer( 0.01 ).minimize( loss )\n",
    "\n",
    "init_op = tf.global_variables_initializer()\n",
    "with tf.Session() as sess:\n",
    "    sess.run( init_op )\n",
    "    for epoch in range( 100 ):\n",
    "        for i in range( len( data ) ):\n",
    "            sess.run( loss, feed_dict ={ x: data[i], y_true: label[i] } )\n",
    "            sess.run( step, feed_dict ={ x: data[i], y_true: label[i] } )\n",
    "    print( sess.run( w ), sess.run( b ) )\n",
    "    print( sess.run( y_pred, feed_dict ={ x: [[0], [4]] } ) )\n"
   ]
  },
  {
   "cell_type": "code",
   "execution_count": null,
   "metadata": {},
   "outputs": [],
   "source": [
    "data = [x for x in range( 100 )] * 100"
   ]
  },
  {
   "cell_type": "code",
   "execution_count": null,
   "metadata": {},
   "outputs": [],
   "source": [
    "x1 = tf.placeholder( tf.float32 )\n",
    "w1 = tf.Variable( [0.7] )\n",
    "b1 = tf.Variable( [0.1] )\n",
    "y1 = w1 * x1 + b1\n",
    "loss1 = tf.math.log( y1 )\n",
    "\n",
    "x2 = tf.placeholder( tf.float32 )\n",
    "w2 = tf.Variable( [0.6] )\n",
    "b2 = tf.Variable( [0.2] )\n",
    "y2 = w2 * x2 + b2\n",
    "loss2 = tf.math.log( y2 )\n",
    "\n",
    "loss3 = 1 / 2 * tf.square( x1 - y2 )\n",
    "\n",
    "loss1_ = 0.5 * loss1 + 0.5 * loss3\n",
    "loss2_ = 0.5 * loss2 + 0.5 * loss3\n",
    "\n",
    "alpha = tf.constant( 0.5 )\n",
    "loss = alpha * loss1_ + ( 1 - alpha ) * loss2_\n",
    "\n",
    "opt2 = tf.train.GradientDescentOptimizer( 0.001 )\n",
    "grad2 = opt2.compute_gradients( loss2 )\n",
    "# grad2 = [( gv[0], gv[1] ) for gv in grad2]\n",
    "step2 = opt2.apply_gradients( grad2 )\n",
    "\n",
    "opt1 = tf.train.GradientDescentOptimizer( 0.001 )\n",
    "grad1 = opt1.compute_gradients( loss1 )\n",
    "# grad1 = [( loss * gv[0], gv[1] ) for gv in grad1]\n",
    "step1 = opt1.apply_gradients( grad1 )\n",
    "\n",
    "init =tf.global_variables_initializer()\n",
    "with tf.Session() as sess:\n",
    "    sess.run( init )\n",
    "    for d in data:\n",
    "        ry1= sess.run( y1, feed_dict = { x1: 1 } )\n",
    "#         rl1, rl2, rl3 = sess.run( [loss1, loss2, loss3], feed_dict ={x1: d, x2: ry1} )\n",
    "#         print( \"losses: \", rl1, rl2, rl3 )\n",
    "        rs1, rs2 = sess.run( [step1, step2], feed_dict ={x1: d, x2: ry1} )\n",
    "    ry1 = sess.run( y1, feed_dict = {x1: 10} )\n",
    "    ry2 = sess.run( y2, feed_dict = {x2: ry1} )\n",
    "    print( ry2 )"
   ]
  }
 ],
 "metadata": {
  "kernelspec": {
   "display_name": "Python 3",
   "language": "python",
   "name": "python3"
  },
  "language_info": {
   "codemirror_mode": {
    "name": "ipython",
    "version": 3
   },
   "file_extension": ".py",
   "mimetype": "text/x-python",
   "name": "python",
   "nbconvert_exporter": "python",
   "pygments_lexer": "ipython3",
   "version": "3.7.1"
  }
 },
 "nbformat": 4,
 "nbformat_minor": 2
}
