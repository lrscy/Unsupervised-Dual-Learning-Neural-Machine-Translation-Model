{
 "cells": [
  {
   "cell_type": "code",
   "execution_count": 5,
   "metadata": {},
   "outputs": [],
   "source": [
    "from keras import backend as K"
   ]
  },
  {
   "cell_type": "code",
   "execution_count": 6,
   "metadata": {},
   "outputs": [],
   "source": [
    "# class Attention():\n",
    "    \n",
    "#     # input.shape = (time_steps, hidden_dim)\n",
    "#     # output.shape = (time_steps,)\n",
    "    \n",
    "#     def __init__(self, attention_size, **kwargs):\n",
    "#         self.attention_size = attention_size\n",
    "#         super(Attention, self).__init__(**kwargs)\n",
    "        \n",
    "#     def build(self, input_shape):\n",
    "#         time_steps = input_shape[0]\n",
    "#         hidden_dim = input_shape[1]\n",
    "#         # W.shape = (hidden_dim, attention_size)\n",
    "#         # B.shape = (attention_size,)\n",
    "#         # U.shape = (attention_size,)\n",
    "#         self.W = self.add_weight(shape=(hidden_dim, self.attention_size), initializer=\"uniform\", trainable=True)\n",
    "#         self.W = K.variable(value=self.W)\n",
    "#         self.B = self.add_weight(shape=(self.attention_size,), initializer=\"uniform\", trainable=True)\n",
    "#         self.B = K.variable(value=self.B)\n",
    "#         self.U = self.add_weight(shape=(self.attention_size,), initializer=\"uniform\", trainable=True)\n",
    "#         self.U = K.variable(value=self.U)\n",
    "\n",
    "#     def call(self, x):\n",
    "#         # x.shape = (time_steps, hidden_dim)\n",
    "#         val = K.dot(x, self.W) + self.B\n",
    "#         val = K.activations.tanh(val) #(time_steps, attention_size)\n",
    "#         val = K.dot(val, self.U) #(time_steps)\n",
    "#         alphas = K.activations.softmax(val) #(time_steps)\n",
    "#         output = K.dot(K.transpose(x), K.expand_dims(alphas, -1))\n",
    "        \n",
    "#         return K.sum(output, axis=-1, keepdims=False)"
   ]
  },
  {
   "cell_type": "code",
   "execution_count": null,
   "metadata": {},
   "outputs": [],
   "source": [
    "\"\"\"Generate sentences based on given sentences\n",
    "\n",
    "Args:\n",
    "    data: a list of dev data sentences. Its structure is:\n",
    "    \n",
    "          [[word1, word2, ...], [...], ...]\n",
    "\n",
    "    encoder_model: encoder part of seq2seq model.\n",
    "    decoder_model: decoder (generate) part of seq2se1 model.\n",
    "    max_len: a interger represents the max length of generated (translated)\n",
    "             sentence.\n",
    "    idx_to_word_dict: a dictionary converts index to word. Its structure is:\n",
    "\n",
    "                      {index A: word A, index B: ..., ...}.\n",
    "\n",
    "Returns:\n",
    "    ret_sentences: a list of generated (translated) sentences.\n",
    "\"\"\""
   ]
  },
  {
   "cell_type": "code",
   "execution_count": null,
   "metadata": {},
   "outputs": [],
   "source": [
    "def translate_sentences(data, encoder_model, decoder_model, max_len, idx_to_word_dict, word_to_idx_dict):\n",
    "    \n",
    "    sentences = []\n",
    "    init = \"<S>\"\n",
    "    \n",
    "    for sentence in data:\n",
    "        \n",
    "        cnt = 0\n",
    "        words = []\n",
    "        sentence_ = [word_to_idx_dict[x] for x in sentence.split(\" \") if x in word_to_idx_dict]\n",
    "        state = encoder_model.predict(sentence_)\n",
    "        \n",
    "        while init != \"</S>\" and cnt <= max_len + 1:\n",
    "            indeces, state = decoder_model.predict(word_to_idx_dict[init], state)\n",
    "            index = np.argmax(indeces) # please check indeces.shape at first\n",
    "            init = idx_to_word_dict[index]\n",
    "            words.append(init)\n",
    "            cnt += 1\n",
    "        sentences.append(words[:-1])\n",
    "    \n",
    "    return sentences"
   ]
  },
  {
   "cell_type": "code",
   "execution_count": null,
   "metadata": {},
   "outputs": [],
   "source": []
  }
 ],
 "metadata": {
  "kernelspec": {
   "display_name": "Python 3",
   "language": "python",
   "name": "python3"
  },
  "language_info": {
   "codemirror_mode": {
    "name": "ipython",
    "version": 3
   },
   "file_extension": ".py",
   "mimetype": "text/x-python",
   "name": "python",
   "nbconvert_exporter": "python",
   "pygments_lexer": "ipython3",
   "version": "3.6.5"
  }
 },
 "nbformat": 4,
 "nbformat_minor": 2
}
